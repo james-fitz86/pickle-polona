{
 "cells": [
  {
   "cell_type": "markdown",
   "id": "412ea634",
   "metadata": {},
   "source": [
    "# 🧪 ORM Sandbox\n",
    "\n",
    "This notebook is used for **testing SQLAlchemy ORM classes** during development.  \n",
    "Used for:\n",
    "\n",
    "- Create and query model instances  \n",
    "- Insert test data into the database  \n",
    "- Experiment with filters and relationships  \n",
    "- Verify behaviours before integrating into the main app\n"
   ]
  },
  {
   "cell_type": "markdown",
   "id": "56fee2cb",
   "metadata": {},
   "source": [
    "## 🏷️ Product Class"
   ]
  },
  {
   "cell_type": "code",
   "execution_count": 1,
   "id": "288182aa",
   "metadata": {},
   "outputs": [],
   "source": [
    "from app import create_app\n",
    "from extensions import db\n",
    "from models.product import Product\n",
    "\n",
    "app = create_app()\n",
    "app.app_context().push()"
   ]
  },
  {
   "cell_type": "code",
   "execution_count": 3,
   "id": "9cce2fd3",
   "metadata": {},
   "outputs": [],
   "source": [
    "# For adding a product to the database\n",
    "from datetime import datetime\n",
    "\n",
    "new_product = Product(\n",
    "    sku=\"SKU001\",\n",
    "    name=\"Spicy Pickled Carrots\",\n",
    "    description=\"Crunchy pickled carrots with a spicy kick.\",\n",
    "    price=5.99,\n",
    "    size=\"500ml jar\",\n",
    "    category=\"Pickles\",\n",
    "    ingredients=\"Carrots, vinegar, chili, garlic, salt\",\n",
    "    featured=True,\n",
    "    image_main=\"carrots_main.jpg\",\n",
    "    image_1=\"carrots_1.jpg\",\n",
    "    image_2=\"carrots_2.jpg\",\n",
    "    stock_quantity=50,\n",
    "    in_stock=True,\n",
    "    expiry_date=datetime(2025, 12, 31),\n",
    "    stock_location=\"Shelf A2\",\n",
    "    packs_per_box=6\n",
    ")\n",
    "\n",
    "db.session.add(new_product)\n",
    "db.session.commit()\n"
   ]
  },
  {
   "cell_type": "code",
   "execution_count": null,
   "id": "827b5bab",
   "metadata": {},
   "outputs": [
    {
     "name": "stdout",
     "output_type": "stream",
     "text": [
      "Product: Spicy Pickled Carrots, Stock: 50\n"
     ]
    }
   ],
   "source": [
    "# For querying specific SKU\n",
    "product = Product.query.filter_by(sku=\"SKU001\").first()\n",
    "print(f\"Product: {product.name}, Stock: {product.stock_quantity}\")\n"
   ]
  },
  {
   "cell_type": "code",
   "execution_count": 4,
   "id": "c5b9e97d",
   "metadata": {},
   "outputs": [
    {
     "name": "stdout",
     "output_type": "stream",
     "text": [
      "SKU: Pickle 001, Name: Sliced Pickles 2, Stock: 50, Price: 6.0\n",
      "SKU: New-001, Name: Test Product, Stock: 10, Price: 98.0\n",
      "SKU: SKU009, Name: New Sku Flash, Stock: 26, Price: 89.0\n",
      "SKU: SKU001, Name: Spicy Pickled Carrots, Stock: 50, Price: 5.99\n"
     ]
    }
   ],
   "source": [
    "# For querying all SKU's\n",
    "products = Product.query.all()\n",
    "\n",
    "for product in products:\n",
    "    print(f\"SKU: {product.sku}, Name: {product.name}, Stock: {product.stock_quantity}, Price: {product.price}\")\n"
   ]
  },
  {
   "cell_type": "code",
   "execution_count": 7,
   "id": "71946be1",
   "metadata": {},
   "outputs": [
    {
     "name": "stdout",
     "output_type": "stream",
     "text": [
      "SKU: SKU001, Name: Spicy Pickled Carrots, Price: 5.99\n"
     ]
    }
   ],
   "source": [
    "# Search products by word in name\n",
    "from sqlalchemy import or_\n",
    "\n",
    "search_term = \"spicy\"\n",
    "\n",
    "matching_products = Product.query.filter(Product.name.ilike(f\"%{search_term}%\")).all()\n",
    "\n",
    "for product in matching_products:\n",
    "    print(f\"SKU: {product.sku}, Name: {product.name}, Price: {product.price}\")\n"
   ]
  },
  {
   "cell_type": "code",
   "execution_count": 10,
   "id": "49ff97dd",
   "metadata": {},
   "outputs": [
    {
     "name": "stdout",
     "output_type": "stream",
     "text": [
      "SKU: Pickle 001, Name: Sliced Pickles 2, Price: 6.0\n",
      "SKU: SKU001, Name: Spicy Pickled Carrots, Price: 5.99\n"
     ]
    }
   ],
   "source": [
    "#Filtering products by a maximum price\n",
    "max_price = 7.00\n",
    "\n",
    "matching_products = Product.query.filter(Product.price < max_price).all()\n",
    "\n",
    "for product in matching_products:\n",
    "    print(f\"SKU: {product.sku}, Name: {product.name}, Price: {product.price}\")"
   ]
  },
  {
   "cell_type": "code",
   "execution_count": 11,
   "id": "0216517d",
   "metadata": {},
   "outputs": [
    {
     "name": "stdout",
     "output_type": "stream",
     "text": [
      "SKU: New-001, Name: Test Product, Price: 98.0\n"
     ]
    }
   ],
   "source": [
    "#Filtering products by a minimum price\n",
    "min_price = 7.00\n",
    "\n",
    "matching_products = Product.query.filter(min_price < Product.price).all()\n",
    "\n",
    "for product in matching_products:\n",
    "    print(f\"SKU: {product.sku}, Name: {product.name}, Price: {product.price}\")"
   ]
  },
  {
   "cell_type": "code",
   "execution_count": 5,
   "id": "e6194670",
   "metadata": {},
   "outputs": [
    {
     "name": "stdout",
     "output_type": "stream",
     "text": [
      "Deleted product with SKU: SKU001\n"
     ]
    }
   ],
   "source": [
    "# Test Product delete\n",
    "product = Product.query.filter_by(sku=\"SKU001\").first()\n",
    "\n",
    "if product:\n",
    "    db.session.delete(product)\n",
    "    db.session.commit()\n",
    "    print(f\"Deleted product with SKU: {product.sku}\")\n",
    "else:\n",
    "    print(\"Product not found.\")"
   ]
  }
 ],
 "metadata": {
  "kernelspec": {
   "display_name": "venv",
   "language": "python",
   "name": "python3"
  },
  "language_info": {
   "codemirror_mode": {
    "name": "ipython",
    "version": 3
   },
   "file_extension": ".py",
   "mimetype": "text/x-python",
   "name": "python",
   "nbconvert_exporter": "python",
   "pygments_lexer": "ipython3",
   "version": "3.13.2"
  }
 },
 "nbformat": 4,
 "nbformat_minor": 5
}
