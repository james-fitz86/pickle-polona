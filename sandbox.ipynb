{
 "cells": [
  {
   "cell_type": "markdown",
   "id": "412ea634",
   "metadata": {},
   "source": [
    "# 🧪 ORM Sandbox\n",
    "\n",
    "This notebook is used for **testing SQLAlchemy ORM classes** during development.  \n",
    "Used for:\n",
    "\n",
    "- Create and query model instances  \n",
    "- Insert test data into the database  \n",
    "- Experiment with filters and relationships  \n",
    "- Verify behaviours before integrating into the main app\n"
   ]
  },
  {
   "cell_type": "markdown",
   "id": "56fee2cb",
   "metadata": {},
   "source": [
    "## 🏷️ Product Class"
   ]
  },
  {
   "cell_type": "code",
   "execution_count": 4,
   "id": "288182aa",
   "metadata": {},
   "outputs": [],
   "source": [
    "from app import create_app\n",
    "from extensions import db\n",
    "from models.product import Product, Batch\n",
    "\n",
    "app = create_app()\n",
    "app.app_context().push()"
   ]
  },
  {
   "cell_type": "code",
   "execution_count": 5,
   "id": "9cce2fd3",
   "metadata": {},
   "outputs": [],
   "source": [
    "# For adding a product to the database\n",
    "from datetime import datetime\n",
    "\n",
    "new_product = Product(\n",
    "    sku=\"Test\",\n",
    "    name=\"Test\",\n",
    "    description=\"Sliced cucumbers in sugar and vinegar\",\n",
    "    price=6.99,\n",
    "    size=\"576 g\",\n",
    "    category=\"Pickles\",\n",
    "    ingredients=\"Cucumber, dill, chilli, bayleaf, sugar, vinegar\",\n",
    "    featured=True,\n",
    "    image_main=\"images/products/pickle006-01.jpeg\",\n",
    "    image_1=\"images/products/pickle006-02.jpeg\",\n",
    "    image_2=\"\",\n",
    "    in_stock=True,\n",
    "    packs_per_box=6\n",
    ")\n",
    "\n",
    "db.session.add(new_product)\n",
    "db.session.commit()\n"
   ]
  },
  {
   "cell_type": "code",
   "execution_count": null,
   "id": "827b5bab",
   "metadata": {},
   "outputs": [],
   "source": [
    "# For querying specific SKU\n",
    "product = Product.query.filter_by(sku=\"SKU001\").first()\n",
    "print(f\"Product: {product.name}, Stock: {product.stock_quantity}\")\n"
   ]
  },
  {
   "cell_type": "code",
   "execution_count": null,
   "id": "c5b9e97d",
   "metadata": {},
   "outputs": [],
   "source": [
    "# For querying all SKU's\n",
    "products = Product.query.all()\n",
    "\n",
    "for product in products:\n",
    "    print(f\"SKU: {product.sku}, Name: {product.name}, Stock: {product.stock_quantity}, Price: {product.price}\")\n"
   ]
  },
  {
   "cell_type": "code",
   "execution_count": null,
   "id": "71946be1",
   "metadata": {},
   "outputs": [],
   "source": [
    "# Search products by word in name\n",
    "from sqlalchemy import or_\n",
    "\n",
    "search_term = \"spicy\"\n",
    "\n",
    "matching_products = Product.query.filter(Product.name.ilike(f\"%{search_term}%\")).all()\n",
    "\n",
    "for product in matching_products:\n",
    "    print(f\"SKU: {product.sku}, Name: {product.name}, Price: {product.price}\")\n"
   ]
  },
  {
   "cell_type": "code",
   "execution_count": null,
   "id": "49ff97dd",
   "metadata": {},
   "outputs": [],
   "source": [
    "#Filtering products by a maximum price\n",
    "max_price = 7.00\n",
    "\n",
    "matching_products = Product.query.filter(Product.price < max_price).all()\n",
    "\n",
    "for product in matching_products:\n",
    "    print(f\"SKU: {product.sku}, Name: {product.name}, Price: {product.price}\")"
   ]
  },
  {
   "cell_type": "code",
   "execution_count": null,
   "id": "0216517d",
   "metadata": {},
   "outputs": [],
   "source": [
    "#Filtering products by a minimum price\n",
    "min_price = 7.00\n",
    "\n",
    "matching_products = Product.query.filter(min_price < Product.price).all()\n",
    "\n",
    "for product in matching_products:\n",
    "    print(f\"SKU: {product.sku}, Name: {product.name}, Price: {product.price}\")"
   ]
  },
  {
   "cell_type": "code",
   "execution_count": null,
   "id": "e6194670",
   "metadata": {},
   "outputs": [],
   "source": [
    "# Test Product delete\n",
    "product = Product.query.filter_by(sku=\"SKU001\").first()\n",
    "\n",
    "if product:\n",
    "    db.session.delete(product)\n",
    "    db.session.commit()\n",
    "    print(f\"Deleted product with SKU: {product.sku}\")\n",
    "else:\n",
    "    print(\"Product not found.\")"
   ]
  },
  {
   "cell_type": "code",
   "execution_count": 11,
   "id": "d0d10998",
   "metadata": {},
   "outputs": [],
   "source": [
    "from datetime import datetime\n",
    "\n",
    "new_batch = Batch(\n",
    "    stock_quantity =\"10\",\n",
    "    stock_location =\"Shelf A2\",\n",
    "    expiry_date =datetime(2026, 8, 3),\n",
    "    product_sku =\"pickle005\"\n",
    ")\n",
    "\n",
    "db.session.add(new_batch)\n",
    "db.session.commit()"
   ]
  }
 ],
 "metadata": {
  "kernelspec": {
   "display_name": "venv",
   "language": "python",
   "name": "python3"
  },
  "language_info": {
   "codemirror_mode": {
    "name": "ipython",
    "version": 3
   },
   "file_extension": ".py",
   "mimetype": "text/x-python",
   "name": "python",
   "nbconvert_exporter": "python",
   "pygments_lexer": "ipython3",
   "version": "3.13.2"
  }
 },
 "nbformat": 4,
 "nbformat_minor": 5
}
