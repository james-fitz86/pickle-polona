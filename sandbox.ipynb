{
 "cells": [
  {
   "cell_type": "markdown",
   "id": "412ea634",
   "metadata": {},
   "source": [
    "# 🧪 ORM Sandbox\n",
    "\n",
    "This notebook is used for **testing SQLAlchemy ORM classes** during development.  \n",
    "Used for:\n",
    "\n",
    "- Create and query model instances  \n",
    "- Insert test data into the database  \n",
    "- Experiment with filters and relationships  \n",
    "- Verify behaviours before integrating into the main app\n"
   ]
  },
  {
   "cell_type": "code",
   "execution_count": null,
   "id": "e6c8b1ee",
   "metadata": {},
   "outputs": [],
   "source": []
  },
  {
   "cell_type": "markdown",
   "id": "56fee2cb",
   "metadata": {},
   "source": [
    "## 🏷️ Product Class"
   ]
  },
  {
   "cell_type": "code",
   "execution_count": null,
   "id": "288182aa",
   "metadata": {},
   "outputs": [],
   "source": [
    "from app import create_app\n",
    "from extensions import db\n",
    "from models.product import Product, Batch\n",
    "from models.store_model import Order, OrderItem\n",
    "from models.main_model import ContactMessage\n",
    "from datetime import datetime\n",
    "\n",
    "app = create_app()\n",
    "app.app_context().push()"
   ]
  },
  {
   "cell_type": "code",
   "execution_count": null,
   "id": "9cce2fd3",
   "metadata": {},
   "outputs": [],
   "source": [
    "# For adding a product to the database\n",
    "from datetime import datetime\n",
    "\n",
    "new_product = Product(\n",
    "    sku=\"Test\",\n",
    "    name=\"Test\",\n",
    "    description=\"Sliced cucumbers in sugar and vinegar\",\n",
    "    price=6.99,\n",
    "    size=\"576 g\",\n",
    "    category=\"Pickles\",\n",
    "    ingredients=\"Cucumber, dill, chilli, bayleaf, sugar, vinegar\",\n",
    "    featured=True,\n",
    "    image_main=\"images/products/pickle006-01.jpeg\",\n",
    "    image_1=\"images/products/pickle006-02.jpeg\",\n",
    "    image_2=\"\",\n",
    "    active=True,\n",
    "    packs_per_box=6\n",
    ")\n",
    "\n",
    "db.session.add(new_product)\n",
    "db.session.commit()\n"
   ]
  },
  {
   "cell_type": "code",
   "execution_count": null,
   "id": "827b5bab",
   "metadata": {},
   "outputs": [],
   "source": [
    "# For querying specific SKU\n",
    "product = Product.query.filter_by(sku=\"SKU001\").first()\n",
    "print(f\"Product: {product.name}, Stock: {product.stock_quantity}\")\n"
   ]
  },
  {
   "cell_type": "code",
   "execution_count": null,
   "id": "c5b9e97d",
   "metadata": {},
   "outputs": [],
   "source": [
    "# For querying all SKU's\n",
    "products = Product.query.all()\n",
    "\n",
    "for product in products:\n",
    "    print(f\"SKU: {product.sku}, Name: {product.name}, Stock: {product.stock_quantity}, Price: {product.price}\")\n"
   ]
  },
  {
   "cell_type": "code",
   "execution_count": null,
   "id": "71946be1",
   "metadata": {},
   "outputs": [],
   "source": [
    "# Search products by word in name\n",
    "from sqlalchemy import or_\n",
    "\n",
    "search_term = \"spicy\"\n",
    "\n",
    "matching_products = Product.query.filter(Product.name.ilike(f\"%{search_term}%\")).all()\n",
    "\n",
    "for product in matching_products:\n",
    "    print(f\"SKU: {product.sku}, Name: {product.name}, Price: {product.price}\")\n"
   ]
  },
  {
   "cell_type": "code",
   "execution_count": null,
   "id": "49ff97dd",
   "metadata": {},
   "outputs": [],
   "source": [
    "#Filtering products by a maximum price\n",
    "max_price = 7.00\n",
    "\n",
    "matching_products = Product.query.filter(Product.price < max_price).all()\n",
    "\n",
    "for product in matching_products:\n",
    "    print(f\"SKU: {product.sku}, Name: {product.name}, Price: {product.price}\")"
   ]
  },
  {
   "cell_type": "code",
   "execution_count": null,
   "id": "0216517d",
   "metadata": {},
   "outputs": [],
   "source": [
    "#Filtering products by a minimum price\n",
    "min_price = 7.00\n",
    "\n",
    "matching_products = Product.query.filter(min_price < Product.price).all()\n",
    "\n",
    "for product in matching_products:\n",
    "    print(f\"SKU: {product.sku}, Name: {product.name}, Price: {product.price}\")"
   ]
  },
  {
   "cell_type": "code",
   "execution_count": null,
   "id": "e6194670",
   "metadata": {},
   "outputs": [],
   "source": [
    "# Test Product delete\n",
    "product = Product.query.filter_by(sku=\"SKU001\").first()\n",
    "\n",
    "if product:\n",
    "    db.session.delete(product)\n",
    "    db.session.commit()\n",
    "    print(f\"Deleted product with SKU: {product.sku}\")\n",
    "else:\n",
    "    print(\"Product not found.\")"
   ]
  },
  {
   "cell_type": "code",
   "execution_count": null,
   "id": "d0d10998",
   "metadata": {},
   "outputs": [],
   "source": [
    "#Test Add Batch\n",
    "from datetime import datetime\n",
    "\n",
    "new_batch = Batch(\n",
    "    stock_quantity =\"123\",\n",
    "    stock_location =\"Sandbox Test\",\n",
    "    expiry_date =datetime(2026, 8, 3),\n",
    "    product_sku =\"pickle005\"\n",
    ")\n",
    "\n",
    "db.session.add(new_batch)\n",
    "db.session.commit()"
   ]
  },
  {
   "cell_type": "code",
   "execution_count": null,
   "id": "7f067821",
   "metadata": {},
   "outputs": [],
   "source": [
    "#Test Batch Delete\n",
    "batch = Batch.query.filter_by(id=\"12\").first()\n",
    "\n",
    "if batch:\n",
    "    db.session.delete(batch)\n",
    "    db.session.commit()\n",
    "    print(f\"Deleted batch with ID: {batch.id}\")\n",
    "else:\n",
    "    print(\"Product not found.\")"
   ]
  },
  {
   "cell_type": "markdown",
   "id": "8c85fd72",
   "metadata": {},
   "source": [
    "SQL for changing the name of the in_stock column to active"
   ]
  },
  {
   "cell_type": "code",
   "execution_count": null,
   "id": "8d6e28a2",
   "metadata": {
    "vscode": {
     "languageId": "sql"
    }
   },
   "outputs": [],
   "source": [
    "ALTER TABLE products RENAME COLUMN in_stock TO active;"
   ]
  },
  {
   "cell_type": "code",
   "execution_count": null,
   "id": "7e25dc3d",
   "metadata": {},
   "outputs": [],
   "source": [
    "#Test Add Order\n",
    "\n",
    "test_order = Order(\n",
    "    first_name=\"Joe\",\n",
    "    surname=\"Smith\",\n",
    "    email=\"alice@example.com\",\n",
    "    phone_number=\"0871234567\",\n",
    "    address_line1=\"123 Main Street\",\n",
    "    address_line2=\"Apt 4B\",\n",
    "    city=\"Dublin\",\n",
    "    county=\"Dublin\",\n",
    "    postcode=\"D01 AB23\",\n",
    "    country=\"Ireland\"\n",
    ")\n",
    "\n",
    "db.session.add(test_order)\n",
    "db.session.commit()\n",
    "\n",
    "print(f\"Order added: {test_order}\")\n"
   ]
  },
  {
   "cell_type": "code",
   "execution_count": null,
   "id": "2aa660ae",
   "metadata": {},
   "outputs": [],
   "source": [
    "#For querying all Orders\n",
    "orders = Order.query.all()\n",
    "\n",
    "for order in orders:\n",
    "    print(f\"Order Ref: {order.order_reference}\")\n",
    "    print(f\"Customer: {order.first_name} {order.surname}\")\n",
    "    print(f\"Email: {order.email}, Phone: {order.phone_number}\")\n",
    "    print(f\"Address: {order.address_line1}, {order.address_line2}, {order.city}, {order.county}, {order.postcode}, {order.country}\")\n",
    "    print(f\"Created At: {order.created_at}\")\n",
    "    print(f\"Status: {order.status}\")\n",
    "    print(\"-----------------------------------\")\n"
   ]
  },
  {
   "cell_type": "code",
   "execution_count": null,
   "id": "021c3d01",
   "metadata": {},
   "outputs": [],
   "source": [
    "#Test Add single Order Item\n",
    "\n",
    "order_id = 2\n",
    "product_sku = \"pickle002\"\n",
    "quantity = 30\n",
    "\n",
    "\n",
    "order = Order.query.get(order_id)\n",
    "product = Product.query.get(product_sku)\n",
    "\n",
    "if order and product:\n",
    "    order_item = OrderItem(\n",
    "        order_id=order.id,\n",
    "        product_sku=product.sku,\n",
    "        quantity=quantity\n",
    "    )\n",
    "\n",
    "    \n",
    "    db.session.add(order_item)\n",
    "    db.session.commit()\n",
    "\n",
    "    print(f\"Added {quantity} x {product.name} to Order {order.order_reference}\")\n",
    "else:\n",
    "    print(\"Invalid order ID or product SKU.\")\n"
   ]
  },
  {
   "cell_type": "code",
   "execution_count": null,
   "id": "fb97ca6f",
   "metadata": {},
   "outputs": [],
   "source": [
    "#Test Add multiple Order Items\n",
    "\n",
    "order_id = 3\n",
    "\n",
    "items_to_add = [\n",
    "    {\"product_sku\": \"pickle002\", \"quantity\": 32},\n",
    "    {\"product_sku\": \"pickle004\", \"quantity\": 12},\n",
    "    {\"product_sku\": \"pickle005\", \"quantity\": 10},\n",
    "]\n",
    "\n",
    "order = Order.query.get(order_id)\n",
    "\n",
    "\n",
    "if order:\n",
    "    for item in items_to_add:\n",
    "        product = Product.query.get(item[\"product_sku\"])\n",
    "        if product:\n",
    "            order_item = OrderItem(\n",
    "                order_id=order.id,\n",
    "                product_sku=product.sku,\n",
    "                quantity=item[\"quantity\"]\n",
    "            )\n",
    "            db.session.add(order_item)\n",
    "            print(f\"Added {item['quantity']} x {product.name} to Order {order.order_reference}\")\n",
    "        else:\n",
    "            print(f\" SKU {item['product_sku']} not found.\")\n",
    "\n",
    "    db.session.commit()\n",
    "else:\n",
    "    print(f\" Order ID {order_id} not found.\")\n"
   ]
  },
  {
   "cell_type": "code",
   "execution_count": null,
   "id": "6a177cd3",
   "metadata": {},
   "outputs": [],
   "source": [
    "#For Querying all OrderItems\n",
    "order_items = OrderItem.query.all()\n",
    "\n",
    "for item in order_items:\n",
    "    order = item.order\n",
    "    product = item.product\n",
    "    print(f\"Order Ref: {order.order_reference} | Customer: {order.first_name} {order.surname}\")\n",
    "    print(f\"SKU: {item.product_sku} | Product Name: {product.name} | Quantity: {item.quantity}\")\n",
    "    print(\"-----------------------------------\")"
   ]
  },
  {
   "cell_type": "code",
   "execution_count": null,
   "id": "34082f01",
   "metadata": {},
   "outputs": [],
   "source": [
    "#For adding Contact Messages\n",
    "new_message = ContactMessage(\n",
    "    name=\"Marek Novak\",\n",
    "    email=\"marek.n@example.com\",\n",
    "    subject=\"Great Service\",\n",
    "    message=\"Just wanted to say thank you for the fast delivery and excellent packaging.\",\n",
    "    submitted_at=datetime.utcnow()\n",
    ")\n",
    "\n",
    "db.session.add(new_message)\n",
    "db.session.commit()"
   ]
  },
  {
   "cell_type": "code",
   "execution_count": null,
   "id": "f73daed2",
   "metadata": {},
   "outputs": [],
   "source": [
    "#For Querying all Contact Messages\n",
    "all_messages = ContactMessage.query.all()\n",
    "for msg in all_messages:\n",
    "    print(f\"{msg.id}: {msg.subject} from {msg.name} on {msg.submitted_at}\")\n"
   ]
  }
 ],
 "metadata": {
  "kernelspec": {
   "display_name": "venv",
   "language": "python",
   "name": "python3"
  },
  "language_info": {
   "codemirror_mode": {
    "name": "ipython",
    "version": 3
   },
   "file_extension": ".py",
   "mimetype": "text/x-python",
   "name": "python",
   "nbconvert_exporter": "python",
   "pygments_lexer": "ipython3",
   "version": "3.13.2"
  }
 },
 "nbformat": 4,
 "nbformat_minor": 5
}
